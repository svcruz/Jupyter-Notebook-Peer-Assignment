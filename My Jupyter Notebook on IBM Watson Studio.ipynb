{
 "cells": [
  {
   "cell_type": "markdown",
   "id": "d06a6245-a86e-4056-ad18-cdc6fc88343b",
   "metadata": {},
   "source": [
    "# My Jupyter Notebook on IBM Watson Studio\n"
   ]
  },
  {
   "cell_type": "markdown",
   "id": "01bdb66a-29b7-419f-836e-d2bf93b6ac01",
   "metadata": {},
   "source": [
    "**Sven Cruz** \n",
    "Desired Occupation: Data Scientist "
   ]
  },
  {
   "cell_type": "markdown",
   "id": "d1acf118-d8a0-47f5-9592-f82217908c67",
   "metadata": {},
   "source": [
    "*I am interested in data science because it combines my analytical and mathatical skillsets. It also is just flat out cool.*"
   ]
  },
  {
   "cell_type": "markdown",
   "id": "ca5f5c53-8e5f-4e36-8caa-1e578abd0a5a",
   "metadata": {},
   "source": [
    "### The code in the next cell is meant to multiply 5 by 20"
   ]
  },
  {
   "cell_type": "code",
   "execution_count": 1,
   "id": "e19b9184-8186-4c80-a484-7d544dc48f0a",
   "metadata": {},
   "outputs": [
    {
     "data": {
      "text/plain": [
       "100"
      ]
     },
     "execution_count": 1,
     "metadata": {},
     "output_type": "execute_result"
    }
   ],
   "source": [
    "5 * 20"
   ]
  },
  {
   "cell_type": "markdown",
   "id": "77175841-2abe-4c26-b6a0-4ad4c49440cb",
   "metadata": {},
   "source": [
    "* bullet 1\n",
    "* bullet 2\n",
    "* bullet 3\n",
    "***\n",
    "Horizontal lines\n",
    "***\n",
    "1. Numbered line 1\n",
    "2. Numbered line 2\n",
    "3. Numbered line 3\n"
   ]
  }
 ],
 "metadata": {
  "kernelspec": {
   "display_name": "Python",
   "language": "python",
   "name": "conda-env-python-py"
  },
  "language_info": {
   "codemirror_mode": {
    "name": "ipython",
    "version": 3
   },
   "file_extension": ".py",
   "mimetype": "text/x-python",
   "name": "python",
   "nbconvert_exporter": "python",
   "pygments_lexer": "ipython3",
   "version": "3.7.12"
  }
 },
 "nbformat": 4,
 "nbformat_minor": 5
}
